{
 "cells": [
  {
   "cell_type": "markdown",
   "metadata": {},
   "source": [
    "###    1. Create an array that has user defined inputs and with the help of for loop,\n",
    "###   fetch all the prime numbers and print the numbers."
   ]
  },
  {
   "cell_type": "code",
   "execution_count": null,
   "metadata": {},
   "outputs": [],
   "source": [
    "import numpy as np\n",
    "# first get the numbers from user and create a list \n",
    "a=[]\n",
    "n = int(input(\"Number of elements in the array\"))\n",
    "for i in range(0,n):\n",
    "    l = int(input())\n",
    "    a.append(l)   # append to list \n",
    "\n",
    "# create a 1 D array \n",
    "b  = np.array(a)\n",
    "print(b)\n",
    "\n",
    "list_prime_no = []  # an empty list to hold the list of prime numbers\n",
    "# iterate thru the loop to check the prime numbers\n",
    "for i in b:\n",
    "    for x in range(2,i):\n",
    "        if i%x == 0:\n",
    "            flag = True\n",
    "            break    \n",
    "        else:\n",
    "            flag = False\n",
    "    if flag == False:\n",
    "        list_prime_no.append(i)\n",
    "        \n",
    "print ('List of Prime Numbers from the Above array :',np.array(list_prime_no))"
   ]
  },
  {
   "cell_type": "code",
   "execution_count": null,
   "metadata": {},
   "outputs": [],
   "source": []
  }
 ],
 "metadata": {
  "kernelspec": {
   "display_name": "Python 3",
   "language": "python",
   "name": "python3"
  },
  "language_info": {
   "codemirror_mode": {
    "name": "ipython",
    "version": 3
   },
   "file_extension": ".py",
   "mimetype": "text/x-python",
   "name": "python",
   "nbconvert_exporter": "python",
   "pygments_lexer": "ipython3",
   "version": "3.7.4"
  }
 },
 "nbformat": 4,
 "nbformat_minor": 2
}
