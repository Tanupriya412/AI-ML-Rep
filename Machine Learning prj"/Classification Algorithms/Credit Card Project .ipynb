{
 "cells": [
  {
   "cell_type": "code",
   "execution_count": 1,
   "id": "25b32137",
   "metadata": {},
   "outputs": [],
   "source": [
    "# importing the libraries\n",
    "import pandas as pd"
   ]
  },
  {
   "cell_type": "markdown",
   "id": "c9d756e1",
   "metadata": {},
   "source": [
    "### 1.load the dataset"
   ]
  },
  {
   "cell_type": "code",
   "execution_count": 2,
   "id": "5346d3e9",
   "metadata": {},
   "outputs": [],
   "source": [
    "data = pd.read_csv('creditcard.csv.crdownload')"
   ]
  },
  {
   "cell_type": "code",
   "execution_count": 3,
   "id": "e351d477",
   "metadata": {},
   "outputs": [
    {
     "data": {
      "text/html": [
       "<div>\n",
       "<style scoped>\n",
       "    .dataframe tbody tr th:only-of-type {\n",
       "        vertical-align: middle;\n",
       "    }\n",
       "\n",
       "    .dataframe tbody tr th {\n",
       "        vertical-align: top;\n",
       "    }\n",
       "\n",
       "    .dataframe thead th {\n",
       "        text-align: right;\n",
       "    }\n",
       "</style>\n",
       "<table border=\"1\" class=\"dataframe\">\n",
       "  <thead>\n",
       "    <tr style=\"text-align: right;\">\n",
       "      <th></th>\n",
       "      <th>Time</th>\n",
       "      <th>V1</th>\n",
       "      <th>V2</th>\n",
       "      <th>V3</th>\n",
       "      <th>V4</th>\n",
       "      <th>V5</th>\n",
       "      <th>V6</th>\n",
       "      <th>V7</th>\n",
       "      <th>V8</th>\n",
       "      <th>V9</th>\n",
       "      <th>...</th>\n",
       "      <th>V21</th>\n",
       "      <th>V22</th>\n",
       "      <th>V23</th>\n",
       "      <th>V24</th>\n",
       "      <th>V25</th>\n",
       "      <th>V26</th>\n",
       "      <th>V27</th>\n",
       "      <th>V28</th>\n",
       "      <th>Amount</th>\n",
       "      <th>Class</th>\n",
       "    </tr>\n",
       "  </thead>\n",
       "  <tbody>\n",
       "    <tr>\n",
       "      <th>0</th>\n",
       "      <td>0</td>\n",
       "      <td>-1.359807</td>\n",
       "      <td>-0.072781</td>\n",
       "      <td>2.536347</td>\n",
       "      <td>1.378155</td>\n",
       "      <td>-0.338321</td>\n",
       "      <td>0.462388</td>\n",
       "      <td>0.239599</td>\n",
       "      <td>0.098698</td>\n",
       "      <td>0.363787</td>\n",
       "      <td>...</td>\n",
       "      <td>-0.018307</td>\n",
       "      <td>0.277838</td>\n",
       "      <td>-0.110474</td>\n",
       "      <td>0.066928</td>\n",
       "      <td>0.128539</td>\n",
       "      <td>-0.189115</td>\n",
       "      <td>0.133558</td>\n",
       "      <td>-0.021053</td>\n",
       "      <td>149.62</td>\n",
       "      <td>0.0</td>\n",
       "    </tr>\n",
       "    <tr>\n",
       "      <th>1</th>\n",
       "      <td>0</td>\n",
       "      <td>1.191857</td>\n",
       "      <td>0.266151</td>\n",
       "      <td>0.166480</td>\n",
       "      <td>0.448154</td>\n",
       "      <td>0.060018</td>\n",
       "      <td>-0.082361</td>\n",
       "      <td>-0.078803</td>\n",
       "      <td>0.085102</td>\n",
       "      <td>-0.255425</td>\n",
       "      <td>...</td>\n",
       "      <td>-0.225775</td>\n",
       "      <td>-0.638672</td>\n",
       "      <td>0.101288</td>\n",
       "      <td>-0.339846</td>\n",
       "      <td>0.167170</td>\n",
       "      <td>0.125895</td>\n",
       "      <td>-0.008983</td>\n",
       "      <td>0.014724</td>\n",
       "      <td>2.69</td>\n",
       "      <td>0.0</td>\n",
       "    </tr>\n",
       "    <tr>\n",
       "      <th>2</th>\n",
       "      <td>1</td>\n",
       "      <td>-1.358354</td>\n",
       "      <td>-1.340163</td>\n",
       "      <td>1.773209</td>\n",
       "      <td>0.379780</td>\n",
       "      <td>-0.503198</td>\n",
       "      <td>1.800499</td>\n",
       "      <td>0.791461</td>\n",
       "      <td>0.247676</td>\n",
       "      <td>-1.514654</td>\n",
       "      <td>...</td>\n",
       "      <td>0.247998</td>\n",
       "      <td>0.771679</td>\n",
       "      <td>0.909412</td>\n",
       "      <td>-0.689281</td>\n",
       "      <td>-0.327642</td>\n",
       "      <td>-0.139097</td>\n",
       "      <td>-0.055353</td>\n",
       "      <td>-0.059752</td>\n",
       "      <td>378.66</td>\n",
       "      <td>0.0</td>\n",
       "    </tr>\n",
       "    <tr>\n",
       "      <th>3</th>\n",
       "      <td>1</td>\n",
       "      <td>-0.966272</td>\n",
       "      <td>-0.185226</td>\n",
       "      <td>1.792993</td>\n",
       "      <td>-0.863291</td>\n",
       "      <td>-0.010309</td>\n",
       "      <td>1.247203</td>\n",
       "      <td>0.237609</td>\n",
       "      <td>0.377436</td>\n",
       "      <td>-1.387024</td>\n",
       "      <td>...</td>\n",
       "      <td>-0.108300</td>\n",
       "      <td>0.005274</td>\n",
       "      <td>-0.190321</td>\n",
       "      <td>-1.175575</td>\n",
       "      <td>0.647376</td>\n",
       "      <td>-0.221929</td>\n",
       "      <td>0.062723</td>\n",
       "      <td>0.061458</td>\n",
       "      <td>123.50</td>\n",
       "      <td>0.0</td>\n",
       "    </tr>\n",
       "    <tr>\n",
       "      <th>4</th>\n",
       "      <td>2</td>\n",
       "      <td>-1.158233</td>\n",
       "      <td>0.877737</td>\n",
       "      <td>1.548718</td>\n",
       "      <td>0.403034</td>\n",
       "      <td>-0.407193</td>\n",
       "      <td>0.095921</td>\n",
       "      <td>0.592941</td>\n",
       "      <td>-0.270533</td>\n",
       "      <td>0.817739</td>\n",
       "      <td>...</td>\n",
       "      <td>-0.009431</td>\n",
       "      <td>0.798278</td>\n",
       "      <td>-0.137458</td>\n",
       "      <td>0.141267</td>\n",
       "      <td>-0.206010</td>\n",
       "      <td>0.502292</td>\n",
       "      <td>0.219422</td>\n",
       "      <td>0.215153</td>\n",
       "      <td>69.99</td>\n",
       "      <td>0.0</td>\n",
       "    </tr>\n",
       "    <tr>\n",
       "      <th>...</th>\n",
       "      <td>...</td>\n",
       "      <td>...</td>\n",
       "      <td>...</td>\n",
       "      <td>...</td>\n",
       "      <td>...</td>\n",
       "      <td>...</td>\n",
       "      <td>...</td>\n",
       "      <td>...</td>\n",
       "      <td>...</td>\n",
       "      <td>...</td>\n",
       "      <td>...</td>\n",
       "      <td>...</td>\n",
       "      <td>...</td>\n",
       "      <td>...</td>\n",
       "      <td>...</td>\n",
       "      <td>...</td>\n",
       "      <td>...</td>\n",
       "      <td>...</td>\n",
       "      <td>...</td>\n",
       "      <td>...</td>\n",
       "      <td>...</td>\n",
       "    </tr>\n",
       "    <tr>\n",
       "      <th>11660</th>\n",
       "      <td>19915</td>\n",
       "      <td>1.294875</td>\n",
       "      <td>-0.645847</td>\n",
       "      <td>0.689549</td>\n",
       "      <td>-0.351634</td>\n",
       "      <td>-1.026884</td>\n",
       "      <td>-0.129811</td>\n",
       "      <td>-0.928101</td>\n",
       "      <td>0.114172</td>\n",
       "      <td>0.804717</td>\n",
       "      <td>...</td>\n",
       "      <td>-0.097462</td>\n",
       "      <td>-0.020893</td>\n",
       "      <td>0.040297</td>\n",
       "      <td>0.159282</td>\n",
       "      <td>0.350705</td>\n",
       "      <td>-0.278351</td>\n",
       "      <td>-0.010354</td>\n",
       "      <td>-0.008003</td>\n",
       "      <td>10.00</td>\n",
       "      <td>0.0</td>\n",
       "    </tr>\n",
       "    <tr>\n",
       "      <th>11661</th>\n",
       "      <td>19915</td>\n",
       "      <td>1.404683</td>\n",
       "      <td>-0.554883</td>\n",
       "      <td>0.612239</td>\n",
       "      <td>-0.234956</td>\n",
       "      <td>-1.190992</td>\n",
       "      <td>-0.816824</td>\n",
       "      <td>-0.775771</td>\n",
       "      <td>-0.142637</td>\n",
       "      <td>1.121638</td>\n",
       "      <td>...</td>\n",
       "      <td>-0.196110</td>\n",
       "      <td>-0.303562</td>\n",
       "      <td>0.005661</td>\n",
       "      <td>0.313352</td>\n",
       "      <td>0.473813</td>\n",
       "      <td>-0.276618</td>\n",
       "      <td>-0.024026</td>\n",
       "      <td>0.002106</td>\n",
       "      <td>5.00</td>\n",
       "      <td>0.0</td>\n",
       "    </tr>\n",
       "    <tr>\n",
       "      <th>11662</th>\n",
       "      <td>19915</td>\n",
       "      <td>-0.945541</td>\n",
       "      <td>0.479754</td>\n",
       "      <td>1.521916</td>\n",
       "      <td>-1.298658</td>\n",
       "      <td>-0.852548</td>\n",
       "      <td>-0.604029</td>\n",
       "      <td>-0.354686</td>\n",
       "      <td>0.498106</td>\n",
       "      <td>0.407159</td>\n",
       "      <td>...</td>\n",
       "      <td>-0.050745</td>\n",
       "      <td>0.056031</td>\n",
       "      <td>-0.055584</td>\n",
       "      <td>0.312195</td>\n",
       "      <td>0.026299</td>\n",
       "      <td>-0.413466</td>\n",
       "      <td>0.189152</td>\n",
       "      <td>0.086360</td>\n",
       "      <td>10.00</td>\n",
       "      <td>0.0</td>\n",
       "    </tr>\n",
       "    <tr>\n",
       "      <th>11663</th>\n",
       "      <td>19915</td>\n",
       "      <td>-0.087909</td>\n",
       "      <td>0.184093</td>\n",
       "      <td>1.683910</td>\n",
       "      <td>-0.837378</td>\n",
       "      <td>-0.682605</td>\n",
       "      <td>-0.669907</td>\n",
       "      <td>-0.056222</td>\n",
       "      <td>-0.120669</td>\n",
       "      <td>0.409636</td>\n",
       "      <td>...</td>\n",
       "      <td>-0.109428</td>\n",
       "      <td>-0.054760</td>\n",
       "      <td>-0.139329</td>\n",
       "      <td>0.333267</td>\n",
       "      <td>0.072695</td>\n",
       "      <td>-0.320292</td>\n",
       "      <td>0.006423</td>\n",
       "      <td>0.010148</td>\n",
       "      <td>10.00</td>\n",
       "      <td>0.0</td>\n",
       "    </tr>\n",
       "    <tr>\n",
       "      <th>11664</th>\n",
       "      <td>19915</td>\n",
       "      <td>1.504229</td>\n",
       "      <td>-0.499337</td>\n",
       "      <td>0.052377</td>\n",
       "      <td>-0.576345</td>\n",
       "      <td>-0.393971</td>\n",
       "      <td>0.015149</td>\n",
       "      <td>-0.718603</td>\n",
       "      <td>-0.125852</td>\n",
       "      <td>1.023281</td>\n",
       "      <td>...</td>\n",
       "      <td>NaN</td>\n",
       "      <td>NaN</td>\n",
       "      <td>NaN</td>\n",
       "      <td>NaN</td>\n",
       "      <td>NaN</td>\n",
       "      <td>NaN</td>\n",
       "      <td>NaN</td>\n",
       "      <td>NaN</td>\n",
       "      <td>NaN</td>\n",
       "      <td>NaN</td>\n",
       "    </tr>\n",
       "  </tbody>\n",
       "</table>\n",
       "<p>11665 rows × 31 columns</p>\n",
       "</div>"
      ],
      "text/plain": [
       "        Time        V1        V2        V3        V4        V5        V6  \\\n",
       "0          0 -1.359807 -0.072781  2.536347  1.378155 -0.338321  0.462388   \n",
       "1          0  1.191857  0.266151  0.166480  0.448154  0.060018 -0.082361   \n",
       "2          1 -1.358354 -1.340163  1.773209  0.379780 -0.503198  1.800499   \n",
       "3          1 -0.966272 -0.185226  1.792993 -0.863291 -0.010309  1.247203   \n",
       "4          2 -1.158233  0.877737  1.548718  0.403034 -0.407193  0.095921   \n",
       "...      ...       ...       ...       ...       ...       ...       ...   \n",
       "11660  19915  1.294875 -0.645847  0.689549 -0.351634 -1.026884 -0.129811   \n",
       "11661  19915  1.404683 -0.554883  0.612239 -0.234956 -1.190992 -0.816824   \n",
       "11662  19915 -0.945541  0.479754  1.521916 -1.298658 -0.852548 -0.604029   \n",
       "11663  19915 -0.087909  0.184093  1.683910 -0.837378 -0.682605 -0.669907   \n",
       "11664  19915  1.504229 -0.499337  0.052377 -0.576345 -0.393971  0.015149   \n",
       "\n",
       "             V7        V8        V9  ...       V21       V22       V23  \\\n",
       "0      0.239599  0.098698  0.363787  ... -0.018307  0.277838 -0.110474   \n",
       "1     -0.078803  0.085102 -0.255425  ... -0.225775 -0.638672  0.101288   \n",
       "2      0.791461  0.247676 -1.514654  ...  0.247998  0.771679  0.909412   \n",
       "3      0.237609  0.377436 -1.387024  ... -0.108300  0.005274 -0.190321   \n",
       "4      0.592941 -0.270533  0.817739  ... -0.009431  0.798278 -0.137458   \n",
       "...         ...       ...       ...  ...       ...       ...       ...   \n",
       "11660 -0.928101  0.114172  0.804717  ... -0.097462 -0.020893  0.040297   \n",
       "11661 -0.775771 -0.142637  1.121638  ... -0.196110 -0.303562  0.005661   \n",
       "11662 -0.354686  0.498106  0.407159  ... -0.050745  0.056031 -0.055584   \n",
       "11663 -0.056222 -0.120669  0.409636  ... -0.109428 -0.054760 -0.139329   \n",
       "11664 -0.718603 -0.125852  1.023281  ...       NaN       NaN       NaN   \n",
       "\n",
       "            V24       V25       V26       V27       V28  Amount  Class  \n",
       "0      0.066928  0.128539 -0.189115  0.133558 -0.021053  149.62    0.0  \n",
       "1     -0.339846  0.167170  0.125895 -0.008983  0.014724    2.69    0.0  \n",
       "2     -0.689281 -0.327642 -0.139097 -0.055353 -0.059752  378.66    0.0  \n",
       "3     -1.175575  0.647376 -0.221929  0.062723  0.061458  123.50    0.0  \n",
       "4      0.141267 -0.206010  0.502292  0.219422  0.215153   69.99    0.0  \n",
       "...         ...       ...       ...       ...       ...     ...    ...  \n",
       "11660  0.159282  0.350705 -0.278351 -0.010354 -0.008003   10.00    0.0  \n",
       "11661  0.313352  0.473813 -0.276618 -0.024026  0.002106    5.00    0.0  \n",
       "11662  0.312195  0.026299 -0.413466  0.189152  0.086360   10.00    0.0  \n",
       "11663  0.333267  0.072695 -0.320292  0.006423  0.010148   10.00    0.0  \n",
       "11664       NaN       NaN       NaN       NaN       NaN     NaN    NaN  \n",
       "\n",
       "[11665 rows x 31 columns]"
      ]
     },
     "execution_count": 3,
     "metadata": {},
     "output_type": "execute_result"
    }
   ],
   "source": [
    "data"
   ]
  },
  {
   "cell_type": "code",
   "execution_count": 4,
   "id": "ac80916c",
   "metadata": {},
   "outputs": [
    {
     "name": "stdout",
     "output_type": "stream",
     "text": [
      "<class 'pandas.core.frame.DataFrame'>\n",
      "RangeIndex: 11665 entries, 0 to 11664\n",
      "Data columns (total 31 columns):\n",
      " #   Column  Non-Null Count  Dtype  \n",
      "---  ------  --------------  -----  \n",
      " 0   Time    11665 non-null  int64  \n",
      " 1   V1      11665 non-null  float64\n",
      " 2   V2      11665 non-null  float64\n",
      " 3   V3      11665 non-null  float64\n",
      " 4   V4      11665 non-null  float64\n",
      " 5   V5      11665 non-null  float64\n",
      " 6   V6      11665 non-null  float64\n",
      " 7   V7      11665 non-null  float64\n",
      " 8   V8      11665 non-null  float64\n",
      " 9   V9      11665 non-null  float64\n",
      " 10  V10     11665 non-null  float64\n",
      " 11  V11     11665 non-null  float64\n",
      " 12  V12     11664 non-null  float64\n",
      " 13  V13     11664 non-null  float64\n",
      " 14  V14     11664 non-null  float64\n",
      " 15  V15     11664 non-null  float64\n",
      " 16  V16     11664 non-null  float64\n",
      " 17  V17     11664 non-null  float64\n",
      " 18  V18     11664 non-null  float64\n",
      " 19  V19     11664 non-null  float64\n",
      " 20  V20     11664 non-null  float64\n",
      " 21  V21     11664 non-null  float64\n",
      " 22  V22     11664 non-null  float64\n",
      " 23  V23     11664 non-null  float64\n",
      " 24  V24     11664 non-null  float64\n",
      " 25  V25     11664 non-null  float64\n",
      " 26  V26     11664 non-null  float64\n",
      " 27  V27     11664 non-null  float64\n",
      " 28  V28     11664 non-null  float64\n",
      " 29  Amount  11664 non-null  float64\n",
      " 30  Class   11664 non-null  float64\n",
      "dtypes: float64(30), int64(1)\n",
      "memory usage: 2.8 MB\n"
     ]
    }
   ],
   "source": [
    "data.info()"
   ]
  },
  {
   "cell_type": "code",
   "execution_count": 5,
   "id": "70d17994",
   "metadata": {},
   "outputs": [
    {
     "data": {
      "text/plain": [
       "Index(['Time', 'V1', 'V2', 'V3', 'V4', 'V5', 'V6', 'V7', 'V8', 'V9', 'V10',\n",
       "       'V11', 'V12', 'V13', 'V14', 'V15', 'V16', 'V17', 'V18', 'V19', 'V20',\n",
       "       'V21', 'V22', 'V23', 'V24', 'V25', 'V26', 'V27', 'V28', 'Amount',\n",
       "       'Class'],\n",
       "      dtype='object')"
      ]
     },
     "execution_count": 5,
     "metadata": {},
     "output_type": "execute_result"
    }
   ],
   "source": [
    "data.columns"
   ]
  },
  {
   "cell_type": "code",
   "execution_count": 6,
   "id": "460ffe93",
   "metadata": {},
   "outputs": [
    {
     "data": {
      "text/plain": [
       "0.0    11615\n",
       "1.0       49\n",
       "Name: Class, dtype: int64"
      ]
     },
     "execution_count": 6,
     "metadata": {},
     "output_type": "execute_result"
    }
   ],
   "source": [
    "data.Class.value_counts()"
   ]
  },
  {
   "cell_type": "markdown",
   "id": "e4c2615f",
   "metadata": {},
   "source": [
    "### Perform missing value abnalysis #2"
   ]
  },
  {
   "cell_type": "code",
   "execution_count": 7,
   "id": "6087caa5",
   "metadata": {},
   "outputs": [
    {
     "data": {
      "text/plain": [
       "True"
      ]
     },
     "execution_count": 7,
     "metadata": {},
     "output_type": "execute_result"
    }
   ],
   "source": [
    "data.isnull().sum().any()"
   ]
  },
  {
   "cell_type": "code",
   "execution_count": 8,
   "id": "4d435c51",
   "metadata": {},
   "outputs": [
    {
     "data": {
      "text/plain": [
       "Time      0\n",
       "V1        0\n",
       "V2        0\n",
       "V3        0\n",
       "V4        0\n",
       "V5        0\n",
       "V6        0\n",
       "V7        0\n",
       "V8        0\n",
       "V9        0\n",
       "V10       0\n",
       "V11       0\n",
       "V12       1\n",
       "V13       1\n",
       "V14       1\n",
       "V15       1\n",
       "V16       1\n",
       "V17       1\n",
       "V18       1\n",
       "V19       1\n",
       "V20       1\n",
       "V21       1\n",
       "V22       1\n",
       "V23       1\n",
       "V24       1\n",
       "V25       1\n",
       "V26       1\n",
       "V27       1\n",
       "V28       1\n",
       "Amount    1\n",
       "Class     1\n",
       "dtype: int64"
      ]
     },
     "execution_count": 8,
     "metadata": {},
     "output_type": "execute_result"
    }
   ],
   "source": [
    "data.isnull().sum()"
   ]
  },
  {
   "cell_type": "code",
   "execution_count": 9,
   "id": "c70e66ca",
   "metadata": {},
   "outputs": [],
   "source": [
    "data.dropna(inplace = True)"
   ]
  },
  {
   "cell_type": "code",
   "execution_count": 10,
   "id": "0a9c587a",
   "metadata": {},
   "outputs": [
    {
     "data": {
      "text/plain": [
       "(11664, 31)"
      ]
     },
     "execution_count": 10,
     "metadata": {},
     "output_type": "execute_result"
    }
   ],
   "source": [
    "data.shape"
   ]
  },
  {
   "cell_type": "markdown",
   "id": "9dc92b83",
   "metadata": {},
   "source": [
    "### 3.calculate no of genuine transactions"
   ]
  },
  {
   "cell_type": "code",
   "execution_count": 11,
   "id": "75e60fd8",
   "metadata": {},
   "outputs": [
    {
     "data": {
      "text/plain": [
       "0.0    11615\n",
       "1.0       49\n",
       "Name: Class, dtype: int64"
      ]
     },
     "execution_count": 11,
     "metadata": {},
     "output_type": "execute_result"
    }
   ],
   "source": [
    "data.Class.value_counts()"
   ]
  },
  {
   "cell_type": "code",
   "execution_count": 12,
   "id": "a6488ea8",
   "metadata": {},
   "outputs": [
    {
     "name": "stdout",
     "output_type": "stream",
     "text": [
      "No of Genuine Transaction: 11615\n"
     ]
    }
   ],
   "source": [
    "genuine =  len(data[data.Class == 0])\n",
    "print('No of Genuine Transaction:', genuine)"
   ]
  },
  {
   "cell_type": "code",
   "execution_count": 13,
   "id": "552749c2",
   "metadata": {},
   "outputs": [
    {
     "name": "stdout",
     "output_type": "stream",
     "text": [
      "No of Fraud Transaction: 49\n"
     ]
    }
   ],
   "source": [
    "fraud = len(data[data.Class == 1])\n",
    "print('No of Fraud Transaction:', fraud)"
   ]
  },
  {
   "cell_type": "code",
   "execution_count": 14,
   "id": "967749c0",
   "metadata": {},
   "outputs": [],
   "source": [
    "Per_fraud = fraud/len(data)"
   ]
  },
  {
   "cell_type": "code",
   "execution_count": 15,
   "id": "a2ddc4d7",
   "metadata": {},
   "outputs": [
    {
     "name": "stdout",
     "output_type": "stream",
     "text": [
      "Percentage of Fraud Transactions: 0.4200960219478738\n"
     ]
    }
   ],
   "source": [
    "print('Percentage of Fraud Transactions:',Per_fraud *100)"
   ]
  },
  {
   "cell_type": "code",
   "execution_count": 16,
   "id": "68ed2d27",
   "metadata": {},
   "outputs": [],
   "source": [
    "### Visualize the genuine and Fraud transactions"
   ]
  },
  {
   "cell_type": "code",
   "execution_count": 17,
   "id": "a9ee4d89",
   "metadata": {},
   "outputs": [],
   "source": [
    "import matplotlib.pyplot as plt\n",
    "import seaborn as sns"
   ]
  },
  {
   "cell_type": "code",
   "execution_count": 18,
   "id": "77ec1c1a",
   "metadata": {},
   "outputs": [],
   "source": [
    "class_count =  data.value_counts(data.Class)"
   ]
  },
  {
   "cell_type": "code",
   "execution_count": 19,
   "id": "f0701644",
   "metadata": {},
   "outputs": [
    {
     "data": {
      "text/plain": [
       "Class\n",
       "0.0    11615\n",
       "1.0       49\n",
       "dtype: int64"
      ]
     },
     "execution_count": 19,
     "metadata": {},
     "output_type": "execute_result"
    }
   ],
   "source": [
    "class_count"
   ]
  },
  {
   "cell_type": "code",
   "execution_count": 20,
   "id": "61ecd9e3",
   "metadata": {},
   "outputs": [
    {
     "data": {
      "image/png": "[encoded data removed]",
      "text/plain": [
       "<Figure size 640x480 with 1 Axes>"
      ]
     },
     "metadata": {},
     "output_type": "display_data"
    }
   ],
   "source": [
    "class_count.plot(kind = 'bar')\n",
    "plt.xlabel('Class')\n",
    "plt.ylabel('Count')\n",
    "plt.show()"
   ]
  },
  {
   "cell_type": "markdown",
   "id": "856c8db1",
   "metadata": {},
   "source": [
    "### 5. Normalise Amount Column"
   ]
  },
  {
   "cell_type": "code",
   "execution_count": 21,
   "id": "8198389e",
   "metadata": {},
   "outputs": [],
   "source": [
    "from sklearn.preprocessing import StandardScaler"
   ]
  },
  {
   "cell_type": "code",
   "execution_count": 22,
   "id": "db9417dc",
   "metadata": {},
   "outputs": [],
   "source": [
    "sc = StandardScaler()"
   ]
  },
  {
   "cell_type": "code",
   "execution_count": 81,
   "id": "f3daa4c3",
   "metadata": {},
   "outputs": [],
   "source": [
    "data['NormalisedAmount'] = sc.fit_transform(data['Amount'].values.reshape(-1,1))"
   ]
  },
  {
   "cell_type": "code",
   "execution_count": 24,
   "id": "79991f31",
   "metadata": {},
   "outputs": [
    {
     "data": {
      "text/plain": [
       "0        0.482873\n",
       "1       -0.334272\n",
       "2        1.756668\n",
       "3        0.337607\n",
       "4        0.040014\n",
       "           ...   \n",
       "11659   -0.321425\n",
       "11660   -0.293618\n",
       "11661   -0.321425\n",
       "11662   -0.293618\n",
       "11663   -0.293618\n",
       "Name: NormalisedAmount, Length: 11664, dtype: float64"
      ]
     },
     "execution_count": 24,
     "metadata": {},
     "output_type": "execute_result"
    }
   ],
   "source": [
    "data['NormalisedAmount']"
   ]
  },
  {
   "cell_type": "markdown",
   "id": "b108758b",
   "metadata": {},
   "source": [
    "### 6. Split the Dataset "
   ]
  },
  {
   "cell_type": "code",
   "execution_count": 25,
   "id": "3aaf979b",
   "metadata": {},
   "outputs": [
    {
     "data": {
      "text/html": [
       "<div>\n",
       "<style scoped>\n",
       "    .dataframe tbody tr th:only-of-type {\n",
       "        vertical-align: middle;\n",
       "    }\n",
       "\n",
       "    .dataframe tbody tr th {\n",
       "        vertical-align: top;\n",
       "    }\n",
       "\n",
       "    .dataframe thead th {\n",
       "        text-align: right;\n",
       "    }\n",
       "</style>\n",
       "<table border=\"1\" class=\"dataframe\">\n",
       "  <thead>\n",
       "    <tr style=\"text-align: right;\">\n",
       "      <th></th>\n",
       "      <th>Time</th>\n",
       "      <th>V1</th>\n",
       "      <th>V2</th>\n",
       "      <th>V3</th>\n",
       "      <th>V4</th>\n",
       "      <th>V5</th>\n",
       "      <th>V6</th>\n",
       "      <th>V7</th>\n",
       "      <th>V8</th>\n",
       "      <th>V9</th>\n",
       "      <th>...</th>\n",
       "      <th>V22</th>\n",
       "      <th>V23</th>\n",
       "      <th>V24</th>\n",
       "      <th>V25</th>\n",
       "      <th>V26</th>\n",
       "      <th>V27</th>\n",
       "      <th>V28</th>\n",
       "      <th>Amount</th>\n",
       "      <th>Class</th>\n",
       "      <th>NormalisedAmount</th>\n",
       "    </tr>\n",
       "  </thead>\n",
       "  <tbody>\n",
       "    <tr>\n",
       "      <th>0</th>\n",
       "      <td>0</td>\n",
       "      <td>-1.359807</td>\n",
       "      <td>-0.072781</td>\n",
       "      <td>2.536347</td>\n",
       "      <td>1.378155</td>\n",
       "      <td>-0.338321</td>\n",
       "      <td>0.462388</td>\n",
       "      <td>0.239599</td>\n",
       "      <td>0.098698</td>\n",
       "      <td>0.363787</td>\n",
       "      <td>...</td>\n",
       "      <td>0.277838</td>\n",
       "      <td>-0.110474</td>\n",
       "      <td>0.066928</td>\n",
       "      <td>0.128539</td>\n",
       "      <td>-0.189115</td>\n",
       "      <td>0.133558</td>\n",
       "      <td>-0.021053</td>\n",
       "      <td>149.62</td>\n",
       "      <td>0.0</td>\n",
       "      <td>0.482873</td>\n",
       "    </tr>\n",
       "    <tr>\n",
       "      <th>1</th>\n",
       "      <td>0</td>\n",
       "      <td>1.191857</td>\n",
       "      <td>0.266151</td>\n",
       "      <td>0.166480</td>\n",
       "      <td>0.448154</td>\n",
       "      <td>0.060018</td>\n",
       "      <td>-0.082361</td>\n",
       "      <td>-0.078803</td>\n",
       "      <td>0.085102</td>\n",
       "      <td>-0.255425</td>\n",
       "      <td>...</td>\n",
       "      <td>-0.638672</td>\n",
       "      <td>0.101288</td>\n",
       "      <td>-0.339846</td>\n",
       "      <td>0.167170</td>\n",
       "      <td>0.125895</td>\n",
       "      <td>-0.008983</td>\n",
       "      <td>0.014724</td>\n",
       "      <td>2.69</td>\n",
       "      <td>0.0</td>\n",
       "      <td>-0.334272</td>\n",
       "    </tr>\n",
       "    <tr>\n",
       "      <th>2</th>\n",
       "      <td>1</td>\n",
       "      <td>-1.358354</td>\n",
       "      <td>-1.340163</td>\n",
       "      <td>1.773209</td>\n",
       "      <td>0.379780</td>\n",
       "      <td>-0.503198</td>\n",
       "      <td>1.800499</td>\n",
       "      <td>0.791461</td>\n",
       "      <td>0.247676</td>\n",
       "      <td>-1.514654</td>\n",
       "      <td>...</td>\n",
       "      <td>0.771679</td>\n",
       "      <td>0.909412</td>\n",
       "      <td>-0.689281</td>\n",
       "      <td>-0.327642</td>\n",
       "      <td>-0.139097</td>\n",
       "      <td>-0.055353</td>\n",
       "      <td>-0.059752</td>\n",
       "      <td>378.66</td>\n",
       "      <td>0.0</td>\n",
       "      <td>1.756668</td>\n",
       "    </tr>\n",
       "    <tr>\n",
       "      <th>3</th>\n",
       "      <td>1</td>\n",
       "      <td>-0.966272</td>\n",
       "      <td>-0.185226</td>\n",
       "      <td>1.792993</td>\n",
       "      <td>-0.863291</td>\n",
       "      <td>-0.010309</td>\n",
       "      <td>1.247203</td>\n",
       "      <td>0.237609</td>\n",
       "      <td>0.377436</td>\n",
       "      <td>-1.387024</td>\n",
       "      <td>...</td>\n",
       "      <td>0.005274</td>\n",
       "      <td>-0.190321</td>\n",
       "      <td>-1.175575</td>\n",
       "      <td>0.647376</td>\n",
       "      <td>-0.221929</td>\n",
       "      <td>0.062723</td>\n",
       "      <td>0.061458</td>\n",
       "      <td>123.50</td>\n",
       "      <td>0.0</td>\n",
       "      <td>0.337607</td>\n",
       "    </tr>\n",
       "    <tr>\n",
       "      <th>4</th>\n",
       "      <td>2</td>\n",
       "      <td>-1.158233</td>\n",
       "      <td>0.877737</td>\n",
       "      <td>1.548718</td>\n",
       "      <td>0.403034</td>\n",
       "      <td>-0.407193</td>\n",
       "      <td>0.095921</td>\n",
       "      <td>0.592941</td>\n",
       "      <td>-0.270533</td>\n",
       "      <td>0.817739</td>\n",
       "      <td>...</td>\n",
       "      <td>0.798278</td>\n",
       "      <td>-0.137458</td>\n",
       "      <td>0.141267</td>\n",
       "      <td>-0.206010</td>\n",
       "      <td>0.502292</td>\n",
       "      <td>0.219422</td>\n",
       "      <td>0.215153</td>\n",
       "      <td>69.99</td>\n",
       "      <td>0.0</td>\n",
       "      <td>0.040014</td>\n",
       "    </tr>\n",
       "  </tbody>\n",
       "</table>\n",
       "<p>5 rows × 32 columns</p>\n",
       "</div>"
      ],
      "text/plain": [
       "   Time        V1        V2        V3        V4        V5        V6        V7  \\\n",
       "0     0 -1.359807 -0.072781  2.536347  1.378155 -0.338321  0.462388  0.239599   \n",
       "1     0  1.191857  0.266151  0.166480  0.448154  0.060018 -0.082361 -0.078803   \n",
       "2     1 -1.358354 -1.340163  1.773209  0.379780 -0.503198  1.800499  0.791461   \n",
       "3     1 -0.966272 -0.185226  1.792993 -0.863291 -0.010309  1.247203  0.237609   \n",
       "4     2 -1.158233  0.877737  1.548718  0.403034 -0.407193  0.095921  0.592941   \n",
       "\n",
       "         V8        V9  ...       V22       V23       V24       V25       V26  \\\n",
       "0  0.098698  0.363787  ...  0.277838 -0.110474  0.066928  0.128539 -0.189115   \n",
       "1  0.085102 -0.255425  ... -0.638672  0.101288 -0.339846  0.167170  0.125895   \n",
       "2  0.247676 -1.514654  ...  0.771679  0.909412 -0.689281 -0.327642 -0.139097   \n",
       "3  0.377436 -1.387024  ...  0.005274 -0.190321 -1.175575  0.647376 -0.221929   \n",
       "4 -0.270533  0.817739  ...  0.798278 -0.137458  0.141267 -0.206010  0.502292   \n",
       "\n",
       "        V27       V28  Amount  Class  NormalisedAmount  \n",
       "0  0.133558 -0.021053  149.62    0.0          0.482873  \n",
       "1 -0.008983  0.014724    2.69    0.0         -0.334272  \n",
       "2 -0.055353 -0.059752  378.66    0.0          1.756668  \n",
       "3  0.062723  0.061458  123.50    0.0          0.337607  \n",
       "4  0.219422  0.215153   69.99    0.0          0.040014  \n",
       "\n",
       "[5 rows x 32 columns]"
      ]
     },
     "execution_count": 25,
     "metadata": {},
     "output_type": "execute_result"
    }
   ],
   "source": [
    "data.head()"
   ]
  },
  {
   "cell_type": "code",
   "execution_count": 26,
   "id": "973d5ee3",
   "metadata": {},
   "outputs": [],
   "source": [
    "x = data.drop(['Class', 'Amount'], axis = 1)"
   ]
  },
  {
   "cell_type": "code",
   "execution_count": 27,
   "id": "1827aa7d",
   "metadata": {},
   "outputs": [
    {
     "data": {
      "text/html": [
       "<div>\n",
       "<style scoped>\n",
       "    .dataframe tbody tr th:only-of-type {\n",
       "        vertical-align: middle;\n",
       "    }\n",
       "\n",
       "    .dataframe tbody tr th {\n",
       "        vertical-align: top;\n",
       "    }\n",
       "\n",
       "    .dataframe thead th {\n",
       "        text-align: right;\n",
       "    }\n",
       "</style>\n",
       "<table border=\"1\" class=\"dataframe\">\n",
       "  <thead>\n",
       "    <tr style=\"text-align: right;\">\n",
       "      <th></th>\n",
       "      <th>Time</th>\n",
       "      <th>V1</th>\n",
       "      <th>V2</th>\n",
       "      <th>V3</th>\n",
       "      <th>V4</th>\n",
       "      <th>V5</th>\n",
       "      <th>V6</th>\n",
       "      <th>V7</th>\n",
       "      <th>V8</th>\n",
       "      <th>V9</th>\n",
       "      <th>...</th>\n",
       "      <th>V20</th>\n",
       "      <th>V21</th>\n",
       "      <th>V22</th>\n",
       "      <th>V23</th>\n",
       "      <th>V24</th>\n",
       "      <th>V25</th>\n",
       "      <th>V26</th>\n",
       "      <th>V27</th>\n",
       "      <th>V28</th>\n",
       "      <th>NormalisedAmount</th>\n",
       "    </tr>\n",
       "  </thead>\n",
       "  <tbody>\n",
       "    <tr>\n",
       "      <th>0</th>\n",
       "      <td>0</td>\n",
       "      <td>-1.359807</td>\n",
       "      <td>-0.072781</td>\n",
       "      <td>2.536347</td>\n",
       "      <td>1.378155</td>\n",
       "      <td>-0.338321</td>\n",
       "      <td>0.462388</td>\n",
       "      <td>0.239599</td>\n",
       "      <td>0.098698</td>\n",
       "      <td>0.363787</td>\n",
       "      <td>...</td>\n",
       "      <td>0.251412</td>\n",
       "      <td>-0.018307</td>\n",
       "      <td>0.277838</td>\n",
       "      <td>-0.110474</td>\n",
       "      <td>0.066928</td>\n",
       "      <td>0.128539</td>\n",
       "      <td>-0.189115</td>\n",
       "      <td>0.133558</td>\n",
       "      <td>-0.021053</td>\n",
       "      <td>0.482873</td>\n",
       "    </tr>\n",
       "    <tr>\n",
       "      <th>1</th>\n",
       "      <td>0</td>\n",
       "      <td>1.191857</td>\n",
       "      <td>0.266151</td>\n",
       "      <td>0.166480</td>\n",
       "      <td>0.448154</td>\n",
       "      <td>0.060018</td>\n",
       "      <td>-0.082361</td>\n",
       "      <td>-0.078803</td>\n",
       "      <td>0.085102</td>\n",
       "      <td>-0.255425</td>\n",
       "      <td>...</td>\n",
       "      <td>-0.069083</td>\n",
       "      <td>-0.225775</td>\n",
       "      <td>-0.638672</td>\n",
       "      <td>0.101288</td>\n",
       "      <td>-0.339846</td>\n",
       "      <td>0.167170</td>\n",
       "      <td>0.125895</td>\n",
       "      <td>-0.008983</td>\n",
       "      <td>0.014724</td>\n",
       "      <td>-0.334272</td>\n",
       "    </tr>\n",
       "    <tr>\n",
       "      <th>2</th>\n",
       "      <td>1</td>\n",
       "      <td>-1.358354</td>\n",
       "      <td>-1.340163</td>\n",
       "      <td>1.773209</td>\n",
       "      <td>0.379780</td>\n",
       "      <td>-0.503198</td>\n",
       "      <td>1.800499</td>\n",
       "      <td>0.791461</td>\n",
       "      <td>0.247676</td>\n",
       "      <td>-1.514654</td>\n",
       "      <td>...</td>\n",
       "      <td>0.524980</td>\n",
       "      <td>0.247998</td>\n",
       "      <td>0.771679</td>\n",
       "      <td>0.909412</td>\n",
       "      <td>-0.689281</td>\n",
       "      <td>-0.327642</td>\n",
       "      <td>-0.139097</td>\n",
       "      <td>-0.055353</td>\n",
       "      <td>-0.059752</td>\n",
       "      <td>1.756668</td>\n",
       "    </tr>\n",
       "    <tr>\n",
       "      <th>3</th>\n",
       "      <td>1</td>\n",
       "      <td>-0.966272</td>\n",
       "      <td>-0.185226</td>\n",
       "      <td>1.792993</td>\n",
       "      <td>-0.863291</td>\n",
       "      <td>-0.010309</td>\n",
       "      <td>1.247203</td>\n",
       "      <td>0.237609</td>\n",
       "      <td>0.377436</td>\n",
       "      <td>-1.387024</td>\n",
       "      <td>...</td>\n",
       "      <td>-0.208038</td>\n",
       "      <td>-0.108300</td>\n",
       "      <td>0.005274</td>\n",
       "      <td>-0.190321</td>\n",
       "      <td>-1.175575</td>\n",
       "      <td>0.647376</td>\n",
       "      <td>-0.221929</td>\n",
       "      <td>0.062723</td>\n",
       "      <td>0.061458</td>\n",
       "      <td>0.337607</td>\n",
       "    </tr>\n",
       "    <tr>\n",
       "      <th>4</th>\n",
       "      <td>2</td>\n",
       "      <td>-1.158233</td>\n",
       "      <td>0.877737</td>\n",
       "      <td>1.548718</td>\n",
       "      <td>0.403034</td>\n",
       "      <td>-0.407193</td>\n",
       "      <td>0.095921</td>\n",
       "      <td>0.592941</td>\n",
       "      <td>-0.270533</td>\n",
       "      <td>0.817739</td>\n",
       "      <td>...</td>\n",
       "      <td>0.408542</td>\n",
       "      <td>-0.009431</td>\n",
       "      <td>0.798278</td>\n",
       "      <td>-0.137458</td>\n",
       "      <td>0.141267</td>\n",
       "      <td>-0.206010</td>\n",
       "      <td>0.502292</td>\n",
       "      <td>0.219422</td>\n",
       "      <td>0.215153</td>\n",
       "      <td>0.040014</td>\n",
       "    </tr>\n",
       "    <tr>\n",
       "      <th>...</th>\n",
       "      <td>...</td>\n",
       "      <td>...</td>\n",
       "      <td>...</td>\n",
       "      <td>...</td>\n",
       "      <td>...</td>\n",
       "      <td>...</td>\n",
       "      <td>...</td>\n",
       "      <td>...</td>\n",
       "      <td>...</td>\n",
       "      <td>...</td>\n",
       "      <td>...</td>\n",
       "      <td>...</td>\n",
       "      <td>...</td>\n",
       "      <td>...</td>\n",
       "      <td>...</td>\n",
       "      <td>...</td>\n",
       "      <td>...</td>\n",
       "      <td>...</td>\n",
       "      <td>...</td>\n",
       "      <td>...</td>\n",
       "      <td>...</td>\n",
       "    </tr>\n",
       "    <tr>\n",
       "      <th>11659</th>\n",
       "      <td>19914</td>\n",
       "      <td>1.348167</td>\n",
       "      <td>-0.531813</td>\n",
       "      <td>0.737667</td>\n",
       "      <td>-0.312410</td>\n",
       "      <td>-1.147767</td>\n",
       "      <td>-0.585711</td>\n",
       "      <td>-0.810412</td>\n",
       "      <td>-0.062116</td>\n",
       "      <td>0.705208</td>\n",
       "      <td>...</td>\n",
       "      <td>-0.060712</td>\n",
       "      <td>-0.120215</td>\n",
       "      <td>-0.076450</td>\n",
       "      <td>0.006995</td>\n",
       "      <td>0.489243</td>\n",
       "      <td>0.448523</td>\n",
       "      <td>-0.309831</td>\n",
       "      <td>-0.021411</td>\n",
       "      <td>-0.003987</td>\n",
       "      <td>-0.321425</td>\n",
       "    </tr>\n",
       "    <tr>\n",
       "      <th>11660</th>\n",
       "      <td>19915</td>\n",
       "      <td>1.294875</td>\n",
       "      <td>-0.645847</td>\n",
       "      <td>0.689549</td>\n",
       "      <td>-0.351634</td>\n",
       "      <td>-1.026884</td>\n",
       "      <td>-0.129811</td>\n",
       "      <td>-0.928101</td>\n",
       "      <td>0.114172</td>\n",
       "      <td>0.804717</td>\n",
       "      <td>...</td>\n",
       "      <td>-0.126197</td>\n",
       "      <td>-0.097462</td>\n",
       "      <td>-0.020893</td>\n",
       "      <td>0.040297</td>\n",
       "      <td>0.159282</td>\n",
       "      <td>0.350705</td>\n",
       "      <td>-0.278351</td>\n",
       "      <td>-0.010354</td>\n",
       "      <td>-0.008003</td>\n",
       "      <td>-0.293618</td>\n",
       "    </tr>\n",
       "    <tr>\n",
       "      <th>11661</th>\n",
       "      <td>19915</td>\n",
       "      <td>1.404683</td>\n",
       "      <td>-0.554883</td>\n",
       "      <td>0.612239</td>\n",
       "      <td>-0.234956</td>\n",
       "      <td>-1.190992</td>\n",
       "      <td>-0.816824</td>\n",
       "      <td>-0.775771</td>\n",
       "      <td>-0.142637</td>\n",
       "      <td>1.121638</td>\n",
       "      <td>...</td>\n",
       "      <td>-0.125651</td>\n",
       "      <td>-0.196110</td>\n",
       "      <td>-0.303562</td>\n",
       "      <td>0.005661</td>\n",
       "      <td>0.313352</td>\n",
       "      <td>0.473813</td>\n",
       "      <td>-0.276618</td>\n",
       "      <td>-0.024026</td>\n",
       "      <td>0.002106</td>\n",
       "      <td>-0.321425</td>\n",
       "    </tr>\n",
       "    <tr>\n",
       "      <th>11662</th>\n",
       "      <td>19915</td>\n",
       "      <td>-0.945541</td>\n",
       "      <td>0.479754</td>\n",
       "      <td>1.521916</td>\n",
       "      <td>-1.298658</td>\n",
       "      <td>-0.852548</td>\n",
       "      <td>-0.604029</td>\n",
       "      <td>-0.354686</td>\n",
       "      <td>0.498106</td>\n",
       "      <td>0.407159</td>\n",
       "      <td>...</td>\n",
       "      <td>-0.106545</td>\n",
       "      <td>-0.050745</td>\n",
       "      <td>0.056031</td>\n",
       "      <td>-0.055584</td>\n",
       "      <td>0.312195</td>\n",
       "      <td>0.026299</td>\n",
       "      <td>-0.413466</td>\n",
       "      <td>0.189152</td>\n",
       "      <td>0.086360</td>\n",
       "      <td>-0.293618</td>\n",
       "    </tr>\n",
       "    <tr>\n",
       "      <th>11663</th>\n",
       "      <td>19915</td>\n",
       "      <td>-0.087909</td>\n",
       "      <td>0.184093</td>\n",
       "      <td>1.683910</td>\n",
       "      <td>-0.837378</td>\n",
       "      <td>-0.682605</td>\n",
       "      <td>-0.669907</td>\n",
       "      <td>-0.056222</td>\n",
       "      <td>-0.120669</td>\n",
       "      <td>0.409636</td>\n",
       "      <td>...</td>\n",
       "      <td>0.003762</td>\n",
       "      <td>-0.109428</td>\n",
       "      <td>-0.054760</td>\n",
       "      <td>-0.139329</td>\n",
       "      <td>0.333267</td>\n",
       "      <td>0.072695</td>\n",
       "      <td>-0.320292</td>\n",
       "      <td>0.006423</td>\n",
       "      <td>0.010148</td>\n",
       "      <td>-0.293618</td>\n",
       "    </tr>\n",
       "  </tbody>\n",
       "</table>\n",
       "<p>11664 rows × 30 columns</p>\n",
       "</div>"
      ],
      "text/plain": [
       "        Time        V1        V2        V3        V4        V5        V6  \\\n",
       "0          0 -1.359807 -0.072781  2.536347  1.378155 -0.338321  0.462388   \n",
       "1          0  1.191857  0.266151  0.166480  0.448154  0.060018 -0.082361   \n",
       "2          1 -1.358354 -1.340163  1.773209  0.379780 -0.503198  1.800499   \n",
       "3          1 -0.966272 -0.185226  1.792993 -0.863291 -0.010309  1.247203   \n",
       "4          2 -1.158233  0.877737  1.548718  0.403034 -0.407193  0.095921   \n",
       "...      ...       ...       ...       ...       ...       ...       ...   \n",
       "11659  19914  1.348167 -0.531813  0.737667 -0.312410 -1.147767 -0.585711   \n",
       "11660  19915  1.294875 -0.645847  0.689549 -0.351634 -1.026884 -0.129811   \n",
       "11661  19915  1.404683 -0.554883  0.612239 -0.234956 -1.190992 -0.816824   \n",
       "11662  19915 -0.945541  0.479754  1.521916 -1.298658 -0.852548 -0.604029   \n",
       "11663  19915 -0.087909  0.184093  1.683910 -0.837378 -0.682605 -0.669907   \n",
       "\n",
       "             V7        V8        V9  ...       V20       V21       V22  \\\n",
       "0      0.239599  0.098698  0.363787  ...  0.251412 -0.018307  0.277838   \n",
       "1     -0.078803  0.085102 -0.255425  ... -0.069083 -0.225775 -0.638672   \n",
       "2      0.791461  0.247676 -1.514654  ...  0.524980  0.247998  0.771679   \n",
       "3      0.237609  0.377436 -1.387024  ... -0.208038 -0.108300  0.005274   \n",
       "4      0.592941 -0.270533  0.817739  ...  0.408542 -0.009431  0.798278   \n",
       "...         ...       ...       ...  ...       ...       ...       ...   \n",
       "11659 -0.810412 -0.062116  0.705208  ... -0.060712 -0.120215 -0.076450   \n",
       "11660 -0.928101  0.114172  0.804717  ... -0.126197 -0.097462 -0.020893   \n",
       "11661 -0.775771 -0.142637  1.121638  ... -0.125651 -0.196110 -0.303562   \n",
       "11662 -0.354686  0.498106  0.407159  ... -0.106545 -0.050745  0.056031   \n",
       "11663 -0.056222 -0.120669  0.409636  ...  0.003762 -0.109428 -0.054760   \n",
       "\n",
       "            V23       V24       V25       V26       V27       V28  \\\n",
       "0     -0.110474  0.066928  0.128539 -0.189115  0.133558 -0.021053   \n",
       "1      0.101288 -0.339846  0.167170  0.125895 -0.008983  0.014724   \n",
       "2      0.909412 -0.689281 -0.327642 -0.139097 -0.055353 -0.059752   \n",
       "3     -0.190321 -1.175575  0.647376 -0.221929  0.062723  0.061458   \n",
       "4     -0.137458  0.141267 -0.206010  0.502292  0.219422  0.215153   \n",
       "...         ...       ...       ...       ...       ...       ...   \n",
       "11659  0.006995  0.489243  0.448523 -0.309831 -0.021411 -0.003987   \n",
       "11660  0.040297  0.159282  0.350705 -0.278351 -0.010354 -0.008003   \n",
       "11661  0.005661  0.313352  0.473813 -0.276618 -0.024026  0.002106   \n",
       "11662 -0.055584  0.312195  0.026299 -0.413466  0.189152  0.086360   \n",
       "11663 -0.139329  0.333267  0.072695 -0.320292  0.006423  0.010148   \n",
       "\n",
       "       NormalisedAmount  \n",
       "0              0.482873  \n",
       "1             -0.334272  \n",
       "2              1.756668  \n",
       "3              0.337607  \n",
       "4              0.040014  \n",
       "...                 ...  \n",
       "11659         -0.321425  \n",
       "11660         -0.293618  \n",
       "11661         -0.321425  \n",
       "11662         -0.293618  \n",
       "11663         -0.293618  \n",
       "\n",
       "[11664 rows x 30 columns]"
      ]
     },
     "execution_count": 27,
     "metadata": {},
     "output_type": "execute_result"
    }
   ],
   "source": [
    "x"
   ]
  },
  {
   "cell_type": "code",
   "execution_count": 28,
   "id": "76610f83",
   "metadata": {},
   "outputs": [],
   "source": [
    "data['Class'] = data['Class'].astype('int')"
   ]
  },
  {
   "cell_type": "code",
   "execution_count": 29,
   "id": "fc53c407",
   "metadata": {},
   "outputs": [],
   "source": [
    "y = data['Class']"
   ]
  },
  {
   "cell_type": "code",
   "execution_count": 30,
   "id": "176c0a35",
   "metadata": {},
   "outputs": [
    {
     "data": {
      "text/plain": [
       "0        0\n",
       "1        0\n",
       "2        0\n",
       "3        0\n",
       "4        0\n",
       "        ..\n",
       "11659    0\n",
       "11660    0\n",
       "11661    0\n",
       "11662    0\n",
       "11663    0\n",
       "Name: Class, Length: 11664, dtype: int32"
      ]
     },
     "execution_count": 30,
     "metadata": {},
     "output_type": "execute_result"
    }
   ],
   "source": [
    "y"
   ]
  },
  {
   "cell_type": "code",
   "execution_count": 31,
   "id": "f9d198fa",
   "metadata": {},
   "outputs": [],
   "source": [
    "from sklearn.model_selection import train_test_split\n",
    "x_train,  x_test, y_train, y_test = train_test_split(x,y,test_size= 0.3, random_state=42)"
   ]
  },
  {
   "cell_type": "markdown",
   "id": "6faf0199",
   "metadata": {},
   "source": [
    "## 7 using Decision Tree"
   ]
  },
  {
   "cell_type": "code",
   "execution_count": 32,
   "id": "27364de1",
   "metadata": {},
   "outputs": [],
   "source": [
    "from sklearn.tree import DecisionTreeClassifier"
   ]
  },
  {
   "cell_type": "code",
   "execution_count": 33,
   "id": "d0684817",
   "metadata": {},
   "outputs": [],
   "source": [
    "dt = DecisionTreeClassifier()"
   ]
  },
  {
   "cell_type": "code",
   "execution_count": 34,
   "id": "557b1769",
   "metadata": {},
   "outputs": [
    {
     "data": {
      "text/plain": [
       "7797     0\n",
       "3668     0\n",
       "4365     0\n",
       "1023     0\n",
       "3298     0\n",
       "        ..\n",
       "11284    0\n",
       "5191     0\n",
       "5390     0\n",
       "860      0\n",
       "7270     0\n",
       "Name: Class, Length: 8164, dtype: int32"
      ]
     },
     "execution_count": 34,
     "metadata": {},
     "output_type": "execute_result"
    }
   ],
   "source": [
    "y_train"
   ]
  },
  {
   "cell_type": "code",
   "execution_count": 35,
   "id": "23c51c0c",
   "metadata": {},
   "outputs": [
    {
     "data": {
      "text/html": [
       "<style>#sk-container-id-1 {color: black;}#sk-container-id-1 pre{padding: 0;}#sk-container-id-1 div.sk-toggleable {background-color: white;}#sk-container-id-1 label.sk-toggleable__label {cursor: pointer;display: block;width: 100%;margin-bottom: 0;padding: 0.3em;box-sizing: border-box;text-align: center;}#sk-container-id-1 label.sk-toggleable__label-arrow:before {content: \"▸\";float: left;margin-right: 0.25em;color: #696969;}#sk-container-id-1 label.sk-toggleable__label-arrow:hover:before {color: black;}#sk-container-id-1 div.sk-estimator:hover label.sk-toggleable__label-arrow:before {color: black;}#sk-container-id-1 div.sk-toggleable__content {max-height: 0;max-width: 0;overflow: hidden;text-align: left;background-color: #f0f8ff;}#sk-container-id-1 div.sk-toggleable__content pre {margin: 0.2em;color: black;border-radius: 0.25em;background-color: #f0f8ff;}#sk-container-id-1 input.sk-toggleable__control:checked~div.sk-toggleable__content {max-height: 200px;max-width: 100%;overflow: auto;}#sk-container-id-1 input.sk-toggleable__control:checked~label.sk-toggleable__label-arrow:before {content: \"▾\";}#sk-container-id-1 div.sk-estimator input.sk-toggleable__control:checked~label.sk-toggleable__label {background-color: #d4ebff;}#sk-container-id-1 div.sk-label input.sk-toggleable__control:checked~label.sk-toggleable__label {background-color: #d4ebff;}#sk-container-id-1 input.sk-hidden--visually {border: 0;clip: rect(1px 1px 1px 1px);clip: rect(1px, 1px, 1px, 1px);height: 1px;margin: -1px;overflow: hidden;padding: 0;position: absolute;width: 1px;}#sk-container-id-1 div.sk-estimator {font-family: monospace;background-color: #f0f8ff;border: 1px dotted black;border-radius: 0.25em;box-sizing: border-box;margin-bottom: 0.5em;}#sk-container-id-1 div.sk-estimator:hover {background-color: #d4ebff;}#sk-container-id-1 div.sk-parallel-item::after {content: \"\";width: 100%;border-bottom: 1px solid gray;flex-grow: 1;}#sk-container-id-1 div.sk-label:hover label.sk-toggleable__label {background-color: #d4ebff;}#sk-container-id-1 div.sk-serial::before {content: \"\";position: absolute;border-left: 1px solid gray;box-sizing: border-box;top: 0;bottom: 0;left: 50%;z-index: 0;}#sk-container-id-1 div.sk-serial {display: flex;flex-direction: column;align-items: center;background-color: white;padding-right: 0.2em;padding-left: 0.2em;position: relative;}#sk-container-id-1 div.sk-item {position: relative;z-index: 1;}#sk-container-id-1 div.sk-parallel {display: flex;align-items: stretch;justify-content: center;background-color: white;position: relative;}#sk-container-id-1 div.sk-item::before, #sk-container-id-1 div.sk-parallel-item::before {content: \"\";position: absolute;border-left: 1px solid gray;box-sizing: border-box;top: 0;bottom: 0;left: 50%;z-index: -1;}#sk-container-id-1 div.sk-parallel-item {display: flex;flex-direction: column;z-index: 1;position: relative;background-color: white;}#sk-container-id-1 div.sk-parallel-item:first-child::after {align-self: flex-end;width: 50%;}#sk-container-id-1 div.sk-parallel-item:last-child::after {align-self: flex-start;width: 50%;}#sk-container-id-1 div.sk-parallel-item:only-child::after {width: 0;}#sk-container-id-1 div.sk-dashed-wrapped {border: 1px dashed gray;margin: 0 0.4em 0.5em 0.4em;box-sizing: border-box;padding-bottom: 0.4em;background-color: white;}#sk-container-id-1 div.sk-label label {font-family: monospace;font-weight: bold;display: inline-block;line-height: 1.2em;}#sk-container-id-1 div.sk-label-container {text-align: center;}#sk-container-id-1 div.sk-container {/* jupyter's `normalize.less` sets `[hidden] { display: none; }` but bootstrap.min.css set `[hidden] { display: none !important; }` so we also need the `!important` here to be able to override the default hidden behavior on the sphinx rendered scikit-learn.org. See: https://github.com/scikit-learn/scikit-learn/issues/21755 */display: inline-block !important;position: relative;}#sk-container-id-1 div.sk-text-repr-fallback {display: none;}</style><div id=\"sk-container-id-1\" class=\"sk-top-container\"><div class=\"sk-text-repr-fallback\"><pre>DecisionTreeClassifier()</pre><b>In a Jupyter environment, please rerun this cell to show the HTML representation or trust the notebook. <br />On GitHub, the HTML representation is unable to render, please try loading this page with nbviewer.org.</b></div><div class=\"sk-container\" hidden><div class=\"sk-item\"><div class=\"sk-estimator sk-toggleable\"><input class=\"sk-toggleable__control sk-hidden--visually\" id=\"sk-estimator-id-1\" type=\"checkbox\" checked><label for=\"sk-estimator-id-1\" class=\"sk-toggleable__label sk-toggleable__label-arrow\">DecisionTreeClassifier</label><div class=\"sk-toggleable__content\"><pre>DecisionTreeClassifier()</pre></div></div></div></div></div>"
      ],
      "text/plain": [
       "DecisionTreeClassifier()"
      ]
     },
     "execution_count": 35,
     "metadata": {},
     "output_type": "execute_result"
    }
   ],
   "source": [
    "dt.fit(x_train,y_train)"
   ]
  },
  {
   "cell_type": "code",
   "execution_count": 36,
   "id": "b3d7eb1d",
   "metadata": {},
   "outputs": [],
   "source": [
    "dt_predict= dt.predict(x_test)"
   ]
  },
  {
   "cell_type": "code",
   "execution_count": 37,
   "id": "db240698",
   "metadata": {},
   "outputs": [],
   "source": [
    "from sklearn.ensemble import RandomForestClassifier"
   ]
  },
  {
   "cell_type": "code",
   "execution_count": 38,
   "id": "2b2cad1b",
   "metadata": {},
   "outputs": [],
   "source": [
    "rf = RandomForestClassifier(n_estimators= 100)"
   ]
  },
  {
   "cell_type": "code",
   "execution_count": 39,
   "id": "a6d68f31",
   "metadata": {},
   "outputs": [
    {
     "data": {
      "text/html": [
       "<style>#sk-container-id-2 {color: black;}#sk-container-id-2 pre{padding: 0;}#sk-container-id-2 div.sk-toggleable {background-color: white;}#sk-container-id-2 label.sk-toggleable__label {cursor: pointer;display: block;width: 100%;margin-bottom: 0;padding: 0.3em;box-sizing: border-box;text-align: center;}#sk-container-id-2 label.sk-toggleable__label-arrow:before {content: \"▸\";float: left;margin-right: 0.25em;color: #696969;}#sk-container-id-2 label.sk-toggleable__label-arrow:hover:before {color: black;}#sk-container-id-2 div.sk-estimator:hover label.sk-toggleable__label-arrow:before {color: black;}#sk-container-id-2 div.sk-toggleable__content {max-height: 0;max-width: 0;overflow: hidden;text-align: left;background-color: #f0f8ff;}#sk-container-id-2 div.sk-toggleable__content pre {margin: 0.2em;color: black;border-radius: 0.25em;background-color: #f0f8ff;}#sk-container-id-2 input.sk-toggleable__control:checked~div.sk-toggleable__content {max-height: 200px;max-width: 100%;overflow: auto;}#sk-container-id-2 input.sk-toggleable__control:checked~label.sk-toggleable__label-arrow:before {content: \"▾\";}#sk-container-id-2 div.sk-estimator input.sk-toggleable__control:checked~label.sk-toggleable__label {background-color: #d4ebff;}#sk-container-id-2 div.sk-label input.sk-toggleable__control:checked~label.sk-toggleable__label {background-color: #d4ebff;}#sk-container-id-2 input.sk-hidden--visually {border: 0;clip: rect(1px 1px 1px 1px);clip: rect(1px, 1px, 1px, 1px);height: 1px;margin: -1px;overflow: hidden;padding: 0;position: absolute;width: 1px;}#sk-container-id-2 div.sk-estimator {font-family: monospace;background-color: #f0f8ff;border: 1px dotted black;border-radius: 0.25em;box-sizing: border-box;margin-bottom: 0.5em;}#sk-container-id-2 div.sk-estimator:hover {background-color: #d4ebff;}#sk-container-id-2 div.sk-parallel-item::after {content: \"\";width: 100%;border-bottom: 1px solid gray;flex-grow: 1;}#sk-container-id-2 div.sk-label:hover label.sk-toggleable__label {background-color: #d4ebff;}#sk-container-id-2 div.sk-serial::before {content: \"\";position: absolute;border-left: 1px solid gray;box-sizing: border-box;top: 0;bottom: 0;left: 50%;z-index: 0;}#sk-container-id-2 div.sk-serial {display: flex;flex-direction: column;align-items: center;background-color: white;padding-right: 0.2em;padding-left: 0.2em;position: relative;}#sk-container-id-2 div.sk-item {position: relative;z-index: 1;}#sk-container-id-2 div.sk-parallel {display: flex;align-items: stretch;justify-content: center;background-color: white;position: relative;}#sk-container-id-2 div.sk-item::before, #sk-container-id-2 div.sk-parallel-item::before {content: \"\";position: absolute;border-left: 1px solid gray;box-sizing: border-box;top: 0;bottom: 0;left: 50%;z-index: -1;}#sk-container-id-2 div.sk-parallel-item {display: flex;flex-direction: column;z-index: 1;position: relative;background-color: white;}#sk-container-id-2 div.sk-parallel-item:first-child::after {align-self: flex-end;width: 50%;}#sk-container-id-2 div.sk-parallel-item:last-child::after {align-self: flex-start;width: 50%;}#sk-container-id-2 div.sk-parallel-item:only-child::after {width: 0;}#sk-container-id-2 div.sk-dashed-wrapped {border: 1px dashed gray;margin: 0 0.4em 0.5em 0.4em;box-sizing: border-box;padding-bottom: 0.4em;background-color: white;}#sk-container-id-2 div.sk-label label {font-family: monospace;font-weight: bold;display: inline-block;line-height: 1.2em;}#sk-container-id-2 div.sk-label-container {text-align: center;}#sk-container-id-2 div.sk-container {/* jupyter's `normalize.less` sets `[hidden] { display: none; }` but bootstrap.min.css set `[hidden] { display: none !important; }` so we also need the `!important` here to be able to override the default hidden behavior on the sphinx rendered scikit-learn.org. See: https://github.com/scikit-learn/scikit-learn/issues/21755 */display: inline-block !important;position: relative;}#sk-container-id-2 div.sk-text-repr-fallback {display: none;}</style><div id=\"sk-container-id-2\" class=\"sk-top-container\"><div class=\"sk-text-repr-fallback\"><pre>RandomForestClassifier()</pre><b>In a Jupyter environment, please rerun this cell to show the HTML representation or trust the notebook. <br />On GitHub, the HTML representation is unable to render, please try loading this page with nbviewer.org.</b></div><div class=\"sk-container\" hidden><div class=\"sk-item\"><div class=\"sk-estimator sk-toggleable\"><input class=\"sk-toggleable__control sk-hidden--visually\" id=\"sk-estimator-id-2\" type=\"checkbox\" checked><label for=\"sk-estimator-id-2\" class=\"sk-toggleable__label sk-toggleable__label-arrow\">RandomForestClassifier</label><div class=\"sk-toggleable__content\"><pre>RandomForestClassifier()</pre></div></div></div></div></div>"
      ],
      "text/plain": [
       "RandomForestClassifier()"
      ]
     },
     "execution_count": 39,
     "metadata": {},
     "output_type": "execute_result"
    }
   ],
   "source": [
    "rf.fit(x_train,y_train)"
   ]
  },
  {
   "cell_type": "code",
   "execution_count": 40,
   "id": "9ed1b75e",
   "metadata": {},
   "outputs": [],
   "source": [
    "rf_predict = rf.predict(x_test)"
   ]
  },
  {
   "cell_type": "code",
   "execution_count": 41,
   "id": "0e7eb072",
   "metadata": {},
   "outputs": [
    {
     "data": {
      "text/plain": [
       "array([0, 0, 0, ..., 0, 0, 0])"
      ]
     },
     "execution_count": 41,
     "metadata": {},
     "output_type": "execute_result"
    }
   ],
   "source": [
    "rf_predict "
   ]
  },
  {
   "cell_type": "markdown",
   "id": "9b445f67",
   "metadata": {},
   "source": [
    "## score"
   ]
  },
  {
   "cell_type": "code",
   "execution_count": 42,
   "id": "a4fa0fa3",
   "metadata": {},
   "outputs": [],
   "source": [
    "dt_score = dt.score(x_test, y_test)*100"
   ]
  },
  {
   "cell_type": "code",
   "execution_count": 43,
   "id": "e8f5b532",
   "metadata": {},
   "outputs": [
    {
     "data": {
      "text/plain": [
       "99.85714285714286"
      ]
     },
     "execution_count": 43,
     "metadata": {},
     "output_type": "execute_result"
    }
   ],
   "source": [
    "dt_score"
   ]
  },
  {
   "cell_type": "code",
   "execution_count": 44,
   "id": "c33e763c",
   "metadata": {},
   "outputs": [],
   "source": [
    "rf_score = rf.score(x_test, y_test) * 100"
   ]
  },
  {
   "cell_type": "code",
   "execution_count": 45,
   "id": "a7a4a573",
   "metadata": {},
   "outputs": [
    {
     "data": {
      "text/plain": [
       "99.91428571428571"
      ]
     },
     "execution_count": 45,
     "metadata": {},
     "output_type": "execute_result"
    }
   ],
   "source": [
    "rf_score"
   ]
  },
  {
   "cell_type": "code",
   "execution_count": 46,
   "id": "25586443",
   "metadata": {},
   "outputs": [],
   "source": [
    "from sklearn.metrics import accuracy_score, precision_score, confusion_matrix, recall_score, f1_score"
   ]
  },
  {
   "cell_type": "code",
   "execution_count": 47,
   "id": "10f92456",
   "metadata": {},
   "outputs": [
    {
     "data": {
      "text/plain": [
       "0.9985714285714286"
      ]
     },
     "execution_count": 47,
     "metadata": {},
     "output_type": "execute_result"
    }
   ],
   "source": [
    "accuracy_score(y_test, dt_predict)"
   ]
  },
  {
   "cell_type": "code",
   "execution_count": 48,
   "id": "ad37be35",
   "metadata": {},
   "outputs": [
    {
     "data": {
      "text/plain": [
       "0.9991428571428571"
      ]
     },
     "execution_count": 48,
     "metadata": {},
     "output_type": "execute_result"
    }
   ],
   "source": [
    "accuracy_score(y_test, rf_predict)"
   ]
  },
  {
   "cell_type": "code",
   "execution_count": 55,
   "id": "90ac008f",
   "metadata": {},
   "outputs": [
    {
     "name": "stdout",
     "output_type": "stream",
     "text": [
      "precison score of Decision Tree: 0.8235294117647058\n"
     ]
    }
   ],
   "source": [
    "print(\"precison score of Decision Tree:\",precision_score(y_test, dt_predict))"
   ]
  },
  {
   "cell_type": "code",
   "execution_count": 53,
   "id": "3167a492",
   "metadata": {},
   "outputs": [
    {
     "name": "stdout",
     "output_type": "stream",
     "text": [
      "Precision score of random forest: 0.9333333333333333\n"
     ]
    }
   ],
   "source": [
    "print(\"Precision score of Random Forest:\" ,precision_score(y_test, rf_predict))"
   ]
  },
  {
   "cell_type": "code",
   "execution_count": 56,
   "id": "6f0e7655",
   "metadata": {},
   "outputs": [
    {
     "name": "stdout",
     "output_type": "stream",
     "text": [
      "F1 score of Decision Tree: 0.8484848484848485\n"
     ]
    }
   ],
   "source": [
    "print(\"F1 score of Decision Tree:\",f1_score(y_test, dt_predict))"
   ]
  },
  {
   "cell_type": "code",
   "execution_count": 72,
   "id": "6af0126f",
   "metadata": {},
   "outputs": [
    {
     "name": "stdout",
     "output_type": "stream",
     "text": [
      "F1 score of Random Forest:0.90\n"
     ]
    }
   ],
   "source": [
    "print(\"F1 score of Random Forest:{:.2f}\".format(f1_score(y_test, rf_predict)))"
   ]
  },
  {
   "cell_type": "code",
   "execution_count": 73,
   "id": "a95fcb20",
   "metadata": {},
   "outputs": [
    {
     "name": "stdout",
     "output_type": "stream",
     "text": [
      "recall score of Decision Tree: 0.875\n"
     ]
    }
   ],
   "source": [
    "print(\"recall score of Decision Tree:\",recall_score(y_test, dt_predict))"
   ]
  },
  {
   "cell_type": "code",
   "execution_count": 74,
   "id": "02e76064",
   "metadata": {},
   "outputs": [
    {
     "name": "stdout",
     "output_type": "stream",
     "text": [
      "recall score of Random Forest: 0.85\n"
     ]
    }
   ],
   "source": [
    "print(\"recall score of Random Forest: {:.2f}\".format(f1_score(y_test, dt_predict)))"
   ]
  },
  {
   "cell_type": "code",
   "execution_count": null,
   "id": "706f2d05",
   "metadata": {},
   "outputs": [],
   "source": [
    "we can see the random forest model has a better performance "
   ]
  },
  {
   "cell_type": "code",
   "execution_count": 76,
   "id": "69550821",
   "metadata": {},
   "outputs": [
    {
     "data": {
      "text/plain": [
       "array([[3481,    3],\n",
       "       [   2,   14]], dtype=int64)"
      ]
     },
     "execution_count": 76,
     "metadata": {},
     "output_type": "execute_result"
    }
   ],
   "source": [
    "confusion_matrix(y_test,dt_predict)"
   ]
  },
  {
   "cell_type": "code",
   "execution_count": 77,
   "id": "404a61c3",
   "metadata": {},
   "outputs": [
    {
     "data": {
      "text/plain": [
       "array([[3483,    1],\n",
       "       [   2,   14]], dtype=int64)"
      ]
     },
     "execution_count": 77,
     "metadata": {},
     "output_type": "execute_result"
    }
   ],
   "source": [
    "confusion_matrix(y_test,rf_predict)"
   ]
  },
  {
   "cell_type": "code",
   "execution_count": 83,
   "id": "26c2bc97",
   "metadata": {},
   "outputs": [],
   "source": [
    "from sklearn.metrics import *"
   ]
  },
  {
   "cell_type": "code",
   "execution_count": 84,
   "id": "da073454",
   "metadata": {},
   "outputs": [
    {
     "name": "stdout",
     "output_type": "stream",
     "text": [
      "              precision    recall  f1-score   support\n",
      "\n",
      "           0       1.00      1.00      1.00      3484\n",
      "           1       0.82      0.88      0.85        16\n",
      "\n",
      "    accuracy                           1.00      3500\n",
      "   macro avg       0.91      0.94      0.92      3500\n",
      "weighted avg       1.00      1.00      1.00      3500\n",
      "\n"
     ]
    }
   ],
   "source": [
    "print(classification_report(y_test,dt_predict))"
   ]
  },
  {
   "cell_type": "code",
   "execution_count": 85,
   "id": "b8cda390",
   "metadata": {},
   "outputs": [
    {
     "name": "stdout",
     "output_type": "stream",
     "text": [
      "              precision    recall  f1-score   support\n",
      "\n",
      "           0       1.00      1.00      1.00      3484\n",
      "           1       0.93      0.88      0.90        16\n",
      "\n",
      "    accuracy                           1.00      3500\n",
      "   macro avg       0.97      0.94      0.95      3500\n",
      "weighted avg       1.00      1.00      1.00      3500\n",
      "\n"
     ]
    }
   ],
   "source": [
    "print(classification_report(y_test,rf_predict))"
   ]
  },
  {
   "cell_type": "code",
   "execution_count": null,
   "id": "5487bcde",
   "metadata": {},
   "outputs": [],
   "source": []
  }
 ],
 "metadata": {
  "kernelspec": {
   "display_name": "Python 3 (ipykernel)",
   "language": "python",
   "name": "python3"
  },
  "language_info": {
   "codemirror_mode": {
    "name": "ipython",
    "version": 3
   },
   "file_extension": ".py",
   "mimetype": "text/x-python",
   "name": "python",
   "nbconvert_exporter": "python",
   "pygments_lexer": "ipython3",
   "version": "3.11.4"
  }
 },
 "nbformat": 4,
 "nbformat_minor": 5
}
