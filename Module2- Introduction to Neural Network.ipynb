{
 "cells": [
  {
   "cell_type": "code",
   "execution_count": null,
   "id": "e7a3fa85",
   "metadata": {},
   "outputs": [],
   "source": [
    "Module 2: Introduction t\n",
    "to Neural Networks - Assignment\n",
    "\n",
    "Introduction:\n",
    "Neural networks, primarily known for their applications in classification tasks, can\n",
    "also be employed for regression problems. In this exercise, we aim to\n",
    "demonstrate the usage of a simple neural network in predicting a linear\n",
    "relationship between input features and the output.\n",
    "Objective:\n",
    "The primary objective is to predict the output value y based on two input features\n",
    "x1 and x2 using a basic neural network model with the equation y=3x1+4x2. The\n",
    "neural network will be trained using a feed-forward and back-propagation\n",
    "mechanism to minimize the error between the predicted and actual values.\n",
    "Methodology:\n"
   ]
  },
  {
   "cell_type": "code",
   "execution_count": null,
   "id": "b36a84ac",
   "metadata": {},
   "outputs": [],
   "source": [
    "1. Activation Functions:\n",
    "● Define the sigmoid function, a popular activation function used in neural\n",
    "networks.\n",
    "● Define the tanh function, which is another common activation function that\n",
    "returns values between -1 and 1.\n",
    "● Define the relu function, which returns positive values as they are and\n",
    "zeroes out negative values."
   ]
  },
  {
   "cell_type": "code",
   "execution_count": null,
   "id": "ce5c126a",
   "metadata": {},
   "outputs": [],
   "source": [
    "Sigmoid Function :\n",
    "    f(x) = 1 /(1 + e pow -x)\n",
    "The values is scaled between 0 and 1, by applyign a threshold. \n",
    "large negative numbers are scaled to 0 and large positive numbers are scaled to 1. \n",
    "range {0,1}"
   ]
  },
  {
   "cell_type": "code",
   "execution_count": 14,
   "id": "3336190f",
   "metadata": {},
   "outputs": [],
   "source": [
    "import numpy as np \n",
    "import matplotlib.pyplot as plt"
   ]
  },
  {
   "cell_type": "code",
   "execution_count": 34,
   "id": "a54a5f01",
   "metadata": {},
   "outputs": [],
   "source": [
    "x = np.array([-2000,-1000,-500,0,500,1000,2000,3000,4000])"
   ]
  },
  {
   "cell_type": "code",
   "execution_count": 35,
   "id": "2a0a25e2",
   "metadata": {},
   "outputs": [
    {
     "data": {
      "text/plain": [
       "array([-2000, -1000,  -500,     0,   500,  1000,  2000,  3000,  4000])"
      ]
     },
     "execution_count": 35,
     "metadata": {},
     "output_type": "execute_result"
    }
   ],
   "source": [
    "x"
   ]
  },
  {
   "cell_type": "code",
   "execution_count": 36,
   "id": "1b26e6aa",
   "metadata": {},
   "outputs": [],
   "source": [
    "def sigmoid(z):\n",
    "    return 1 / (1 + np.exp(-z))"
   ]
  },
  {
   "cell_type": "code",
   "execution_count": 37,
   "id": "885bce81",
   "metadata": {},
   "outputs": [
    {
     "name": "stderr",
     "output_type": "stream",
     "text": [
      "C:\\Users\\Ashutosh\\AppData\\Local\\Temp\\ipykernel_12448\\3196251242.py:2: RuntimeWarning: overflow encountered in exp\n",
      "  return 1 / (1 + np.exp(-z))\n"
     ]
    }
   ],
   "source": [
    "y = sigmoid(x)"
   ]
  },
  {
   "cell_type": "code",
   "execution_count": 38,
   "id": "39971aca",
   "metadata": {},
   "outputs": [
    {
     "data": {
      "text/plain": [
       "array([0.00000000e+000, 0.00000000e+000, 7.12457641e-218, 5.00000000e-001,\n",
       "       1.00000000e+000, 1.00000000e+000, 1.00000000e+000, 1.00000000e+000,\n",
       "       1.00000000e+000])"
      ]
     },
     "execution_count": 38,
     "metadata": {},
     "output_type": "execute_result"
    }
   ],
   "source": [
    "y"
   ]
  },
  {
   "cell_type": "code",
   "execution_count": 40,
   "id": "f8e00073",
   "metadata": {},
   "outputs": [
    {
     "data": {
      "image/png": "[encoded data removed]",
      "text/plain": [
       "<Figure size 640x480 with 1 Axes>"
      ]
     },
     "metadata": {},
     "output_type": "display_data"
    }
   ],
   "source": [
    "plt.plot(x,y)\n",
    "plt.show()"
   ]
  },
  {
   "cell_type": "code",
   "execution_count": null,
   "id": "fad40c4d",
   "metadata": {},
   "outputs": [],
   "source": [
    "tanh function \n",
    "it is hyperbolic tignometric function \n",
    "𝒇 𝒙 : 𝒕𝒂𝒏𝒉 𝒙 =(𝟐/𝟏+ e pow -𝟐𝒙) − 𝟏\n",
    "    \n",
    "value ranges from -1 to 1 instead of 0 to 1 as in the sigmoid function. Hence we can say that it is a mathemetically shifted \n",
    "version of the sigmoid function. It can deal easily with negative numbers. Works better than the sigmoid function as \n",
    "optimization is easier in this method."
   ]
  },
  {
   "cell_type": "code",
   "execution_count": 43,
   "id": "fa6b4fde",
   "metadata": {},
   "outputs": [],
   "source": [
    "def tanh(z):\n",
    "    a = 2*z\n",
    "    b =  2 / (1 + np.exp(-a))\n",
    "    return b - 1 "
   ]
  },
  {
   "cell_type": "code",
   "execution_count": 44,
   "id": "5b117893",
   "metadata": {},
   "outputs": [
    {
     "name": "stderr",
     "output_type": "stream",
     "text": [
      "C:\\Users\\Ashutosh\\AppData\\Local\\Temp\\ipykernel_12448\\4244837651.py:3: RuntimeWarning: overflow encountered in exp\n",
      "  b =  2 / (1 + np.exp(-a))\n"
     ]
    }
   ],
   "source": [
    "y = tanh(x)"
   ]
  },
  {
   "cell_type": "code",
   "execution_count": 45,
   "id": "74edc97c",
   "metadata": {},
   "outputs": [
    {
     "data": {
      "text/plain": [
       "array([-1., -1., -1.,  0.,  1.,  1.,  1.,  1.,  1.])"
      ]
     },
     "execution_count": 45,
     "metadata": {},
     "output_type": "execute_result"
    }
   ],
   "source": [
    "y"
   ]
  },
  {
   "cell_type": "code",
   "execution_count": 46,
   "id": "a9d1de11",
   "metadata": {},
   "outputs": [
    {
     "data": {
      "text/plain": [
       "[<matplotlib.lines.Line2D at 0x21a05dda690>]"
      ]
     },
     "execution_count": 46,
     "metadata": {},
     "output_type": "execute_result"
    },
    {
     "data": {
      "image/png": "[encoded data removed]",
      "text/plain": [
       "<Figure size 640x480 with 1 Axes>"
      ]
     },
     "metadata": {},
     "output_type": "display_data"
    }
   ],
   "source": [
    "plt.plot(x,y)"
   ]
  },
  {
   "cell_type": "code",
   "execution_count": null,
   "id": "69547e3a",
   "metadata": {},
   "outputs": [],
   "source": [
    "Relu Function \n",
    "f(x) = { 0 if x<0 \n",
    "         x if x>= 0}\n",
    "it stands for rectified linear unit\n",
    "It is mainly used in the hidden layer of the neural network , widely used activation function \n",
    "Value ranges from 0 to infinity ."
   ]
  },
  {
   "cell_type": "code",
   "execution_count": 56,
   "id": "908ab5a4",
   "metadata": {},
   "outputs": [],
   "source": [
    "def relu(z):\n",
    "    if z<0:\n",
    "        return 0\n",
    "    if z>=0:\n",
    "        return z"
   ]
  },
  {
   "cell_type": "code",
   "execution_count": 66,
   "id": "78dcc54c",
   "metadata": {},
   "outputs": [
    {
     "name": "stdout",
     "output_type": "stream",
     "text": [
      "0\n",
      "0\n",
      "0\n",
      "0\n",
      "500\n",
      "1000\n",
      "2000\n",
      "3000\n",
      "4000\n",
      "[0, 0, 0, 0, 500, 1000, 2000, 3000, 4000]\n",
      "[   0    0    0    0  500 1000 2000 3000 4000]\n"
     ]
    }
   ],
   "source": [
    "list_1 = []\n",
    "for i in x:\n",
    "    l  = relu(i)\n",
    "    print(l)\n",
    "    list_1.append(l)\n",
    "print(list_1)\n",
    "y = np.array(list_1)\n",
    "print(y)"
   ]
  },
  {
   "cell_type": "code",
   "execution_count": 68,
   "id": "bdd7f0aa",
   "metadata": {},
   "outputs": [
    {
     "data": {
      "image/png": "[encoded data removed]",
      "text/plain": [
       "<Figure size 640x480 with 1 Axes>"
      ]
     },
     "metadata": {},
     "output_type": "display_data"
    }
   ],
   "source": [
    "plt.plot(x,y)\n",
    "plt.show()"
   ]
  },
  {
   "cell_type": "markdown",
   "id": "85fdc0b4",
   "metadata": {},
   "source": [
    "2. Sample Data:\n",
    "● Use the following sample data for training:\n",
    "x1=3, x2=2, yactual=17"
   ]
  },
  {
   "cell_type": "code",
   "execution_count": 121,
   "id": "8d7e475e",
   "metadata": {},
   "outputs": [],
   "source": [
    "x1 = 3\n",
    "x2 = 2\n",
    "yactual = 17"
   ]
  },
  {
   "cell_type": "markdown",
   "id": "598210aa",
   "metadata": {},
   "source": [
    "3. Feed Forward:\n",
    "● Initialize the random weights w1 and w2 between 1 and 10.\n",
    "● Predict the output ypred using the equation ypred= x1 x w1 + x2 x w2\n"
   ]
  },
  {
   "cell_type": "code",
   "execution_count": 1,
   "id": "890491b6",
   "metadata": {},
   "outputs": [],
   "source": [
    "import numpy as np"
   ]
  },
  {
   "cell_type": "code",
   "execution_count": 122,
   "id": "654f868d",
   "metadata": {},
   "outputs": [],
   "source": [
    "w1 = np.random.randint(1,10)\n",
    "w2 = np.random.randint(1,10)"
   ]
  },
  {
   "cell_type": "code",
   "execution_count": 123,
   "id": "31aa7d1e",
   "metadata": {},
   "outputs": [
    {
     "data": {
      "text/plain": [
       "(6, 6)"
      ]
     },
     "execution_count": 123,
     "metadata": {},
     "output_type": "execute_result"
    }
   ],
   "source": [
    "w1, w2"
   ]
  },
  {
   "cell_type": "code",
   "execution_count": 124,
   "id": "77438110",
   "metadata": {},
   "outputs": [],
   "source": [
    "#affine equation \n",
    "ypred = x1*w1 + x2 * w2"
   ]
  },
  {
   "cell_type": "code",
   "execution_count": 125,
   "id": "d1e90c33",
   "metadata": {},
   "outputs": [
    {
     "data": {
      "text/plain": [
       "30"
      ]
     },
     "execution_count": 125,
     "metadata": {},
     "output_type": "execute_result"
    }
   ],
   "source": [
    "ypred"
   ]
  },
  {
   "cell_type": "code",
   "execution_count": 126,
   "id": "aa92f245",
   "metadata": {},
   "outputs": [
    {
     "data": {
      "text/plain": [
       "45"
      ]
     },
     "execution_count": 126,
     "metadata": {},
     "output_type": "execute_result"
    }
   ],
   "source": [
    "3*9 + 2*9"
   ]
  },
  {
   "cell_type": "markdown",
   "id": "81a9f229",
   "metadata": {},
   "source": [
    "4. Error Calculation:\n",
    "● Compute the squared error as error = (yactual-ypred)*(yactual-ypred)"
   ]
  },
  {
   "cell_type": "code",
   "execution_count": 127,
   "id": "b24d97cb",
   "metadata": {},
   "outputs": [],
   "source": [
    "error = (yactual-ypred)*(yactual-ypred)"
   ]
  },
  {
   "cell_type": "code",
   "execution_count": 128,
   "id": "bbf9eef8",
   "metadata": {},
   "outputs": [
    {
     "data": {
      "text/plain": [
       "169"
      ]
     },
     "execution_count": 128,
     "metadata": {},
     "output_type": "execute_result"
    }
   ],
   "source": [
    "error"
   ]
  },
  {
   "cell_type": "markdown",
   "id": "3b379226",
   "metadata": {},
   "source": [
    "5. Back Propagation:\n",
    "● Compute the gradients of the error with respect to the weights.\n",
    "● Update the weights using the computed gradients and a learning rate.\n",
    "\n"
   ]
  },
  {
   "cell_type": "code",
   "execution_count": 129,
   "id": "28aa76b0",
   "metadata": {},
   "outputs": [],
   "source": [
    "dedw1 = 2*(ypred - yactual)*x1\n",
    "dedw2 = 2*(ypred - yactual)*x2"
   ]
  },
  {
   "cell_type": "code",
   "execution_count": 130,
   "id": "a287e3db",
   "metadata": {},
   "outputs": [
    {
     "data": {
      "text/plain": [
       "(78, 52)"
      ]
     },
     "execution_count": 130,
     "metadata": {},
     "output_type": "execute_result"
    }
   ],
   "source": [
    "dedw1, dedw2"
   ]
  },
  {
   "cell_type": "code",
   "execution_count": 131,
   "id": "080b1964",
   "metadata": {},
   "outputs": [],
   "source": [
    "#weight updation\n",
    "w1 = w1 - dedw1\n",
    "w2 = w2 - dedw2"
   ]
  },
  {
   "cell_type": "code",
   "execution_count": 132,
   "id": "7a7db4d5",
   "metadata": {},
   "outputs": [
    {
     "data": {
      "text/plain": [
       "(-72, -46)"
      ]
     },
     "execution_count": 132,
     "metadata": {},
     "output_type": "execute_result"
    }
   ],
   "source": [
    "w1,w2"
   ]
  },
  {
   "cell_type": "code",
   "execution_count": 133,
   "id": "5ad3bc9f",
   "metadata": {},
   "outputs": [
    {
     "data": {
      "text/plain": [
       "-308"
      ]
     },
     "execution_count": 133,
     "metadata": {},
     "output_type": "execute_result"
    }
   ],
   "source": [
    "x1*w1 + x2*w2"
   ]
  },
  {
   "cell_type": "markdown",
   "id": "7e74e348",
   "metadata": {},
   "source": [
    "6. Training:\n",
    "● The above steps (Feed Forward to Back Propagation) are performed\n",
    "iteratively (20 times in this example) to refine the weights and minimize\n",
    "the error."
   ]
  },
  {
   "cell_type": "code",
   "execution_count": 134,
   "id": "f98cf235",
   "metadata": {},
   "outputs": [],
   "source": [
    "w1 = np.random.randint(1,20)\n",
    "w2 = np.random.randint(1,20)"
   ]
  },
  {
   "cell_type": "code",
   "execution_count": 135,
   "id": "63695c23",
   "metadata": {},
   "outputs": [
    {
     "data": {
      "text/plain": [
       "(15, 7)"
      ]
     },
     "execution_count": 135,
     "metadata": {},
     "output_type": "execute_result"
    }
   ],
   "source": [
    "w1,w2"
   ]
  },
  {
   "cell_type": "code",
   "execution_count": 136,
   "id": "e7e900ea",
   "metadata": {},
   "outputs": [],
   "source": [
    "ypred_list = []\n",
    "error_list = []\n",
    "w1_list = []\n",
    "w2_list= []\n",
    "epoch_list = []\n",
    "lr=0.02"
   ]
  },
  {
   "cell_type": "code",
   "execution_count": 137,
   "id": "a2ca08cb",
   "metadata": {},
   "outputs": [
    {
     "name": "stdout",
     "output_type": "stream",
     "text": [
      "1 yactual : 17 ypred : 59\n",
      "2 yactual : 17 ypred : 37.160000000000004\n",
      "3 yactual : 17 ypred : 26.6768\n",
      "4 yactual : 17 ypred : 21.644864000000002\n",
      "5 yactual : 17 ypred : 19.229534720000004\n",
      "6 yactual : 17 ypred : 18.070176665600002\n",
      "7 yactual : 17 ypred : 17.513684799488\n",
      "8 yactual : 17 ypred : 17.246568703754242\n",
      "9 yactual : 17 ypred : 17.118352977802033\n",
      "10 yactual : 17 ypred : 17.056809429344977\n",
      "11 yactual : 17 ypred : 17.02726852608559\n",
      "12 yactual : 17 ypred : 17.013088892521083\n",
      "13 yactual : 17 ypred : 17.00628266841012\n",
      "14 yactual : 17 ypred : 17.00301568083686\n",
      "15 yactual : 17 ypred : 17.00144752680169\n",
      "16 yactual : 17 ypred : 17.00069481286481\n",
      "17 yactual : 17 ypred : 17.000333510175107\n",
      "18 yactual : 17 ypred : 17.00016008488405\n",
      "19 yactual : 17 ypred : 17.000076840744345\n"
     ]
    }
   ],
   "source": [
    "for epoch in range(1,20):\n",
    "    epoch_list.append(epoch)\n",
    "    ypred = x1*w1 + x2*w2\n",
    "    ypred_list.append(ypred)\n",
    "    w1_list.append(w1)\n",
    "    w2_list.append(w2)\n",
    "    \n",
    "    #error calcualtion\n",
    "    error = (ypred-yactual )**2\n",
    "    error_list.append(error)\n",
    "    \n",
    "    #gradient calcualtion \n",
    "    dedw1 = 2*(ypred-yactual)*x1\n",
    "    dedw2 = 2*(ypred - yactual)* x2\n",
    "    \n",
    "    #weight updation\n",
    "    w1 = w1- lr*dedw1\n",
    "    w2 = w2-lr*dedw2\n",
    "    \n",
    "    print(f\"{epoch} yactual : {yactual} ypred : {ypred}\")\n"
   ]
  },
  {
   "cell_type": "markdown",
   "id": "67ad161b",
   "metadata": {},
   "source": [
    "7. Visualization:\n",
    "● Plot the progression of the error across epochs.\n",
    "● Plot the progression of ypred across epochs.\n",
    "Expected Outcome:\n",
    "After sufficient training, the predicted ypred should be close to the actual value\n",
    "yactual=17. The error graph should show a declining trend, indicating that the\n",
    "model is learning and improving its predictions over time."
   ]
  },
  {
   "cell_type": "code",
   "execution_count": 138,
   "id": "86e6359c",
   "metadata": {},
   "outputs": [
    {
     "data": {
      "text/plain": [
       "[59,\n",
       " 37.160000000000004,\n",
       " 26.6768,\n",
       " 21.644864000000002,\n",
       " 19.229534720000004,\n",
       " 18.070176665600002,\n",
       " 17.513684799488,\n",
       " 17.246568703754242,\n",
       " 17.118352977802033,\n",
       " 17.056809429344977,\n",
       " 17.02726852608559,\n",
       " 17.013088892521083,\n",
       " 17.00628266841012,\n",
       " 17.00301568083686,\n",
       " 17.00144752680169,\n",
       " 17.00069481286481,\n",
       " 17.000333510175107,\n",
       " 17.00016008488405,\n",
       " 17.000076840744345]"
      ]
     },
     "execution_count": 138,
     "metadata": {},
     "output_type": "execute_result"
    }
   ],
   "source": [
    "ypred_list"
   ]
  },
  {
   "cell_type": "code",
   "execution_count": 139,
   "id": "2af09366",
   "metadata": {},
   "outputs": [
    {
     "data": {
      "text/plain": [
       "[1764,\n",
       " 406.42560000000014,\n",
       " 93.64045824,\n",
       " 21.574761578496016,\n",
       " 4.970825067685495,\n",
       " 1.1452780955947381,\n",
       " 0.2638720732250275,\n",
       " 0.06079612567104732,\n",
       " 0.014007427354608495,\n",
       " 0.00322731126250191,\n",
       " 0.0007435725148804324,\n",
       " 0.00017131910742845162,\n",
       " 3.9471922351506324e-05,\n",
       " 9.094330909805914e-06,\n",
       " 2.095333841613523e-06,\n",
       " 4.827649171071632e-07,\n",
       " 1.1122903689987898e-07,\n",
       " 2.562717010164112e-08,\n",
       " 5.9044999915273114e-09]"
      ]
     },
     "execution_count": 139,
     "metadata": {},
     "output_type": "execute_result"
    }
   ],
   "source": [
    "error_list"
   ]
  },
  {
   "cell_type": "code",
   "execution_count": 140,
   "id": "6f82d50a",
   "metadata": {},
   "outputs": [
    {
     "data": {
      "text/plain": [
       "[1, 2, 3, 4, 5, 6, 7, 8, 9, 10, 11, 12, 13, 14, 15, 16, 17, 18, 19]"
      ]
     },
     "execution_count": 140,
     "metadata": {},
     "output_type": "execute_result"
    }
   ],
   "source": [
    "epoch_list"
   ]
  },
  {
   "cell_type": "code",
   "execution_count": 154,
   "id": "394be08b",
   "metadata": {},
   "outputs": [
    {
     "data": {
      "image/png": "[encoded data removed]",
      "text/plain": [
       "<Figure size 640x480 with 1 Axes>"
      ]
     },
     "metadata": {},
     "output_type": "display_data"
    }
   ],
   "source": [
    "plt.plot(epoch_list, ypred_list)\n",
    "plt.xticks(range(1,20))\n",
    "plt.xlabel('No of epochs')\n",
    "plt.ylabel('predicted value')\n",
    "plt.show()"
   ]
  },
  {
   "cell_type": "code",
   "execution_count": 152,
   "id": "f4b091f9",
   "metadata": {},
   "outputs": [
    {
     "data": {
      "image/png": "[encoded data removed]",
      "text/plain": [
       "<Figure size 640x480 with 1 Axes>"
      ]
     },
     "metadata": {},
     "output_type": "display_data"
    }
   ],
   "source": [
    "plt.plot( epoch_list,error_list)\n",
    "plt.xlabel('No of Epochs')\n",
    "plt.ylabel('Error values')\n",
    "plt.xticks(range(1,20))\n",
    "plt.show()"
   ]
  }
 ],
 "metadata": {
  "kernelspec": {
   "display_name": "Python 3 (ipykernel)",
   "language": "python",
   "name": "python3"
  },
  "language_info": {
   "codemirror_mode": {
    "name": "ipython",
    "version": 3
   },
   "file_extension": ".py",
   "mimetype": "text/x-python",
   "name": "python",
   "nbconvert_exporter": "python",
   "pygments_lexer": "ipython3",
   "version": "3.11.4"
  }
 },
 "nbformat": 4,
 "nbformat_minor": 5
}
